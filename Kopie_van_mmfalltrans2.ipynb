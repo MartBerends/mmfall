{
  "cells": [
    {
<<<<<<< HEAD
=======
      "cell_type": "markdown",
      "metadata": {
        "id": "view-in-github",
        "colab_type": "text"
      },
      "source": [
        "<a href=\"https://colab.research.google.com/github/MartBerends/mmfall/blob/master/Kopie_van_mmfalltrans.ipynb\" target=\"_parent\"><img src=\"https://colab.research.google.com/assets/colab-badge.svg\" alt=\"Open In Colab\"/></a>"
      ]
    },
    {
>>>>>>> c8b06c1e8cefe04988eb69948e3d7a4560ca319e
      "cell_type": "code",
      "execution_count": 1,
      "metadata": {
        "id": "hYKMU9QfKOU7"
      },
<<<<<<< HEAD
      "outputs": [
        {
          "name": "stdout",
          "output_type": "stream",
          "text": [
            "WARNING:tensorflow:From c:\\Python311\\Lib\\site-packages\\keras\\src\\losses.py:2976: The name tf.losses.sparse_softmax_cross_entropy is deprecated. Please use tf.compat.v1.losses.sparse_softmax_cross_entropy instead.\n",
            "\n"
          ]
        }
      ],
=======
      "outputs": [],
>>>>>>> c8b06c1e8cefe04988eb69948e3d7a4560ca319e
      "source": [
        "import argparse, os\n",
        "import matplotlib.pyplot as plt\n",
        "import numpy as np\n",
        "import random as rn\n",
        "import tensorflow as tf\n",
        "from tensorflow.keras import layers\n",
        "from tensorflow.keras.layers import MultiHeadAttention, LayerNormalization, Dropout\n",
        "from keras import backend as K\n",
        "from keras import optimizers\n",
        "from keras.layers import Input, Dense, Flatten, Lambda, Concatenate, Reshape, \\\n",
        "    TimeDistributed, LSTM, RepeatVector, SimpleRNN, Activation\n",
        "from keras.models import Model, load_model\n",
        "from keras.callbacks import TensorBoard\n",
        "from keras.losses import mse\n",
        "from keras.utils import plot_model\n",
        "from numpy import shape\n",
        "\n",
        "import matplotlib.pylab as pylab\n",
        "params = {'legend.fontsize': 'x-large',\n",
        "        #   'figure.figsize': (19.2, 10.8),\n",
        "         'axes.labelsize': 'x-large',\n",
        "         'axes.titlesize':'x-large',\n",
        "         'xtick.labelsize':'x-large',\n",
        "         'ytick.labelsize':'x-large'}\n",
        "pylab.rcParams.update(params)\n",
        "\n",
        "class data_preproc:\n",
        "    def __init__(self):\n",
        "        # One motion pattern is as (self.frames_per_pattern, self.points_per_frame, self.features_per_point)\n",
        "        self.frames_per_pattern     = 10 # For 1 second for 10 fps radar rate\n",
        "        self.points_per_frame       = 64 # We want to oversample every radar frame to 64 points while keeping the mean and variance the same\n",
        "        self.features_per_point     = 4  # The radar can provides us (x, y, z, Doppler, RCS), but we only keep the first four feature, i.e. (x, y, z, Doppler)\n",
        "\n",
        "        # Train and test data split ratio\n",
        "        self.split_ratio            = 0.8\n",
        "\n",
        "        # Rotation matrix due to tilt angle\n",
        "        tilt_angle  = 10.0 # degrees\n",
        "        self.height = 1.8   # meters\n",
        "        self.rotation_matrix = np.array([[1.0, 0.0, 0.0],\\\n",
        "                                        [0.0, np.cos(np.deg2rad(tilt_angle)), np.sin(np.deg2rad(tilt_angle))],\\\n",
        "                                        [0.0, -np.sin(np.deg2rad(tilt_angle)), np.cos(np.deg2rad(tilt_angle))]])\n",
        "\n",
        "    def load_bin(self, binfile_path, fortrain=True):\n",
        "        # Record centroid history for analysis purpose\n",
        "        centroidX_his = []\n",
        "        centroidY_his = []\n",
        "        centroidZ_his = []\n",
        "\n",
        "        # Load the recorded bin file\n",
        "        raw_pointcloud = np.load(binfile_path, allow_pickle=True)\n",
        "\n",
        "        # Accumulated the motion patterns with (self.frames_per_pattern) frames\n",
        "        total_pattern = []\n",
        "        for idx in range(len(raw_pointcloud)-self.frames_per_pattern):\n",
        "            total_pattern.append(raw_pointcloud[idx : (idx + self.frames_per_pattern)])\n",
        "\n",
        "        # Original point vector in the .bin file:\n",
        "        #   [frame number, point ID, target ID, \\\\ Basic information\n",
        "        #   centroidX, centroidY, centroidZ, centroidVelocityX, centroidVelocityY, centroidVelocityZ, \\\\ Centorid information\n",
        "        #   range, azimuth angle, elevation angle, Doppler, SNR, noise level] \\\\ Point information\n",
        "        # Extract the feature vector (delta_x, delta_y, z, D, pointRCS) from the original point vector and do data oversampling proposed in the paper\n",
        "        total_processed_pattern = []\n",
        "        total_processed_no_norm = []\n",
        "        for pattern in total_pattern:\n",
        "            # Get the centroid information from the very first frame in a pattern and do coordiante transformation\n",
        "            # As the centroid is already in the radar Cartesian coordinates, we just need to transfer it to the ground Cartesian coordinates\n",
        "            centroidX, centroidY, centroidZ, centroidVx, centroidVy, centroidVz = pattern[0][0][3], pattern[0][0][4], pattern[0][0][5], pattern[0][0][6], pattern[0][0][7], pattern[0][0][8]\n",
        "            results      = np.matmul(self.rotation_matrix, np.array([centroidX,centroidY,centroidZ]))\n",
        "            centroidX    = results[0]\n",
        "            centroidY    = results[1]\n",
        "            centroidZ    = results[2] + self.height\n",
        "\n",
        "            # Record the centroid history over time\n",
        "            centroidX_his.append(centroidX)\n",
        "            centroidY_his.append(centroidY)\n",
        "            centroidZ_his.append(centroidZ)\n",
        "\n",
        "            processed_pattern  = []\n",
        "            for frame in pattern:\n",
        "                processed_frame = []\n",
        "                for point in frame:\n",
        "                    # Get the original point information.\n",
        "                    pointR, pointAZ, pointEL, pointD, pointSNR, pointNoise = point[9], point[10], point[11], point[12], point[13], point[14]\n",
        "\n",
        "                    # Get the point's position in the Cartesian coord and then do coordiante transformation\n",
        "                    pointX      = pointR*np.cos(pointEL)*np.sin(pointAZ)\n",
        "                    pointY      = pointR*np.cos(pointEL)*np.cos(pointAZ)\n",
        "                    pointZ      = pointR*np.sin(pointEL)\n",
        "                    results     = np.matmul(self.rotation_matrix, np.array([pointX, pointY, pointZ]))\n",
        "                    pointX      = results[0]\n",
        "                    pointY      = results[1]\n",
        "                    pointZ      = results[2] + self.height\n",
        "\n",
        "                    # Subtract the point's position from the centroid in the very first frame in a motion pattern\n",
        "                    delta_x     = pointX - centroidX\n",
        "                    delta_y     = pointY - centroidY\n",
        "                    delta_z     = pointZ\n",
        "                    delta_D     = pointD\n",
        "                    pointRCS    = 4*10*np.log10(pointR) + pointSNR*0.1 + pointNoise*0.1 # in dBsm\n",
        "\n",
        "                    # Form the feature vector for each frame\n",
        "                    feature_vector = [delta_x, delta_y, delta_z, delta_D, pointRCS]\n",
        "                    processed_frame.append(feature_vector[0:self.features_per_point]) # Only keep 3D spatial info and the Doppler\n",
        "                processed_pattern.append(processed_frame)\n",
        "                # Do the data oversampling proposed in the paper\n",
        "                processed_pattern_oversampled = self.proposed_oversampling(processed_pattern)\n",
        "            total_processed_pattern.append(processed_pattern_oversampled)\n",
        "\n",
        "        total_processed_pattern_np = np.array(total_processed_pattern)\n",
        "\n",
        "        # Train and test split\n",
        "        split_idx   = int(total_processed_pattern_np.shape[0]*self.split_ratio)\n",
        "        traindata   = total_processed_pattern_np[0:split_idx]\n",
        "        testdata    = total_processed_pattern_np[split_idx:]\n",
        "\n",
        "        if fortrain is True: # For training, need data split to obtain both training and testing dataset\n",
        "            print(\"INFO: Total normal motion pattern data shape: \" + str(total_processed_pattern_np.shape))\n",
        "            print(\"INFO: Training motion pattern data shape\" + str(traindata.shape))\n",
        "            print(\"INFO: Testing motion pattern data shape\" + str(testdata.shape))\n",
        "            return traindata, testdata\n",
        "        else: # For inference on anomaly dataset\n",
        "            print(\"INFO: Total inference motion pattern data shape: \" + str(total_processed_pattern_np.shape))\n",
        "            return total_processed_pattern, centroidZ_his\n",
        "\n",
        "    def proposed_oversampling(self, processed_pointcloud):\n",
        "        # # Check the input\n",
        "        # point_list = []\n",
        "        # for frame in processed_pointcloud:\n",
        "        #     point_list.extend(frame)\n",
        "        # point_list_np  = np.array(point_list)\n",
        "        # assert (point_list_np.shape[-1] == self.features_per_point), (\"ERROR: Input processed_pointcloud has different feature length rather than %s!\" %(self.features_per_point))\n",
        "\n",
        "        # Do the data oversampling\n",
        "        processed_pointcloud_oversampled = []\n",
        "        for frame in processed_pointcloud:\n",
        "            frame_np = np.array(frame)\n",
        "            # Check if it's empty frame\n",
        "            N = self.points_per_frame\n",
        "            M = frame_np.shape[0]\n",
        "            assert (M != 0), \"ERROR: empty frame detected!\"\n",
        "            # Rescale and padding\n",
        "            mean        = np.mean(frame_np, axis=0)\n",
        "            sigma       = np.std(frame_np, axis=0)\n",
        "            frame_np    = np.sqrt(N/M)*frame_np + mean - np.sqrt(N/M)*mean # Rescale\n",
        "            frame_oversampled = frame_np.tolist()\n",
        "            frame_oversampled.extend([mean]*(N-M)) # Padding with mean\n",
        "            # # Check if mean and sigma keeps the same. Comment for saving time.\n",
        "            # new_mean    = np.mean(np.array(frame_oversampled), axis=0)\n",
        "            # new_sigma   = np.std(np.array(frame_oversampled), axis=0)\n",
        "            # assert np.sum(np.abs(new_mean-mean))<1e-5, (\"ERROR: Mean rescale and padding error!\")\n",
        "            # assert np.sum(np.abs(new_sigma-sigma))<1e-5, (\"ERROR: Sigma rescale and padding error!\")\n",
        "            processed_pointcloud_oversampled.append(frame_oversampled)\n",
        "\n",
        "        processed_pointcloud_oversampled_np = np.array(processed_pointcloud_oversampled)\n",
        "        assert (processed_pointcloud_oversampled_np.shape[-2] == self.points_per_frame), (\"ERROR: The new_frame_data has different number of points per frame rather than %s!\" %(self.points_per_frame))\n",
        "        assert (processed_pointcloud_oversampled_np.shape[-1] == self.features_per_point), (\"ERROR: The new_frame_data has different feature length rather than %s!\" %(self.features_per_point))\n",
        "\n",
        "        return processed_pointcloud_oversampled_np\n",
        "\n"
      ]
    },
    {
      "cell_type": "code",
<<<<<<< HEAD
      "execution_count": null,
      "metadata": {
        "colab": {
          "base_uri": "https://localhost:8080/"
        },
        "id": "u5sX3Ta-KTwI",
        "outputId": "0657b7d4-d69a-4112-e8fc-8b035c170871"
      },
      "outputs": [
        {
          "name": "stdout",
          "output_type": "stream",
          "text": [
            "Drive already mounted at /content/drive; to attempt to forcibly remount, call drive.mount(\"/content/drive\", force_remount=True).\n"
          ]
        }
      ],
      "source": [
        "from google.colab import drive\n",
        "drive.mount('/content/drive')"
      ]
    },
    {
      "cell_type": "code",
      "execution_count": 2,
      "metadata": {
        "colab": {
          "base_uri": "https://localhost:8080/"
        },
        "id": "Q_hXs3sCKOU_",
        "outputId": "d04f7c62-8340-49e2-dc5f-f851a49c5f44"
      },
      "outputs": [
        {
          "name": "stdout",
          "output_type": "stream",
          "text": [
            "INFO: Load train/test data...\n"
          ]
        },
        {
          "data": {
            "text/plain": [
              "(60816, 10, 64, 4)"
            ]
          },
          "execution_count": 2,
          "metadata": {},
          "output_type": "execute_result"
        }
      ],
      "source": [
        "if __name__ == '__main__':\n",
        "    #project_path = '/content/drive/MyDrive/master project/git/mmfall/'\n",
        "    project_path = 'C:/Users/mart_/Documents/master_project/git/mmfall/'\n",
=======
      "source": [
        "from google.colab import drive\n",
        "drive.mount('/content/drive')"
      ],
      "metadata": {
        "id": "u5sX3Ta-KTwI"
      },
      "execution_count": null,
      "outputs": []
    },
    {
      "cell_type": "code",
      "execution_count": null,
      "metadata": {
        "id": "Q_hXs3sCKOU_"
      },
      "outputs": [],
      "source": [
        "if __name__ == '__main__':\n",
        "    project_path = '/content/drive/MyDrive/master project/git/mmfall/'\n",
>>>>>>> c8b06c1e8cefe04988eb69948e3d7a4560ca319e
        "print(\"INFO: Load train/test data...\")\n",
        "train_data      = np.load(project_path + 'data/normal_train_data.npy', allow_pickle=True)\n",
        "test_data       = np.load(project_path + 'data/normal_test_data.npy', allow_pickle=True)\n",
        "shape(train_data)"
      ]
    },
    {
      "cell_type": "code",
<<<<<<< HEAD
      "execution_count": 3,
=======
      "execution_count": null,
>>>>>>> c8b06c1e8cefe04988eb69948e3d7a4560ca319e
      "metadata": {
        "id": "4OiXwyQBKOVA"
      },
      "outputs": [],
      "source": [
        "\n",
        "# Positional Encoding Layer\n",
        "class PositionalEncoding(layers.Layer):\n",
        "    def __init__(self, sequence_size, embedding_dim, **kwargs):\n",
        "        super(PositionalEncoding, self).__init__(**kwargs)\n",
        "        self.sequence_size = sequence_size\n",
        "        self.embedding_dim = embedding_dim\n",
        "\n",
        "    def build(self, input_shape):\n",
        "        self.positional_embeddings = self.add_weight(\n",
        "            name='pos_embeddings',\n",
        "            shape=(self.sequence_size, self.embedding_dim),\n",
        "            initializer='uniform',\n",
        "            trainable=True,\n",
        "        )\n",
        "\n",
        "    def call(self, x):\n",
        "        return x + self.positional_embeddings\n",
        "\n",
        "# Transformer Encoder Layer\n",
        "def transformer_encoder(inputs, head_size, num_heads, ff_dim, dropout_rate):\n",
        "    # Normalization and Attention\n",
        "    x = layers.LayerNormalization(epsilon=1e-6)(inputs)\n",
        "    x = layers.MultiHeadAttention(\n",
        "        key_dim=head_size, num_heads=num_heads, dropout=dropout_rate)(x, x)\n",
        "    x = layers.Dropout(dropout_rate)(x)\n",
        "    x = layers.Add()([inputs, x])\n",
        "\n",
        "    # Feed Forward Network\n",
        "    ff_network = tf.keras.Sequential([\n",
        "        layers.Dense(ff_dim, activation='relu'),\n",
        "        layers.Dropout(dropout_rate),\n",
        "        layers.Dense(inputs.shape[-1]),\n",
        "    ])\n",
        "\n",
        "    x = layers.LayerNormalization(epsilon=1e-6)(x)\n",
        "    ff_output = ff_network(x)\n",
        "    x = layers.Add()([x, ff_output])\n",
        "    return x\n",
        "\n",
        "# Transformer Model for Anomaly Detection\n",
        "def build_transformer_model(sequence_size, embedding_dim, head_size, num_heads, ff_dim, dropout_rate):\n",
        "    inputs = layers.Input(shape=(sequence_size, embedding_dim))\n",
        "    x = PositionalEncoding(sequence_size, embedding_dim)(inputs)\n",
        "    x = transformer_encoder(x, head_size, num_heads, ff_dim, dropout_rate)\n",
        "\n",
        "    # Reconstruction of the input\n",
        "    outputs = layers.Dense(embedding_dim)(x)\n",
        "\n",
        "    model = tf.keras.Model(inputs=inputs, outputs=outputs)\n",
        "    return model\n",
        "\n"
      ]
    },
    {
      "cell_type": "code",
<<<<<<< HEAD
      "execution_count": 4,
=======
      "execution_count": null,
>>>>>>> c8b06c1e8cefe04988eb69948e3d7a4560ca319e
      "metadata": {
        "colab": {
          "base_uri": "https://localhost:8080/"
        },
        "id": "y7D5vQm8KOVB",
        "outputId": "b6d0c11c-e44a-4630-85d6-0fff4a224b4f"
      },
      "outputs": [
        {
<<<<<<< HEAD
          "name": "stdout",
          "output_type": "stream",
          "text": [
            "WARNING:tensorflow:From c:\\Python311\\Lib\\site-packages\\keras\\src\\backend.py:1398: The name tf.executing_eagerly_outside_functions is deprecated. Please use tf.compat.v1.executing_eagerly_outside_functions instead.\n",
            "\n",
            "WARNING:tensorflow:From c:\\Python311\\Lib\\site-packages\\keras\\src\\optimizers\\__init__.py:309: The name tf.train.Optimizer is deprecated. Please use tf.compat.v1.train.Optimizer instead.\n",
            "\n",
            "Model: \"model\"\n",
            "__________________________________________________________________________________________________\n",
            " Layer (type)                Output Shape                 Param #   Connected to                  \n",
            "==================================================================================================\n",
            " input_1 (InputLayer)        [(None, 640, 4)]             0         []                            \n",
            "                                                                                                  \n",
            " positional_encoding (Posit  (None, 640, 4)               2560      ['input_1[0][0]']             \n",
            " ionalEncoding)                                                                                   \n",
            "                                                                                                  \n",
            " layer_normalization (Layer  (None, 640, 4)               8         ['positional_encoding[0][0]'] \n",
            " Normalization)                                                                                   \n",
            "                                                                                                  \n",
            " multi_head_attention (Mult  (None, 640, 4)               19460     ['layer_normalization[0][0]', \n",
            " iHeadAttention)                                                     'layer_normalization[0][0]'] \n",
            "                                                                                                  \n",
            " dropout (Dropout)           (None, 640, 4)               0         ['multi_head_attention[0][0]']\n",
            "                                                                                                  \n",
            " add (Add)                   (None, 640, 4)               0         ['positional_encoding[0][0]', \n",
            "                                                                     'dropout[0][0]']             \n",
            "                                                                                                  \n",
            " layer_normalization_1 (Lay  (None, 640, 4)               8         ['add[0][0]']                 \n",
            " erNormalization)                                                                                 \n",
            "                                                                                                  \n",
            " sequential (Sequential)     (None, 640, 4)               40        ['layer_normalization_1[0][0]'\n",
            "                                                                    ]                             \n",
            "                                                                                                  \n",
            " add_1 (Add)                 (None, 640, 4)               0         ['layer_normalization_1[0][0]'\n",
            "                                                                    , 'sequential[0][0]']         \n",
            "                                                                                                  \n",
            " dense_2 (Dense)             (None, 640, 4)               20        ['add_1[0][0]']               \n",
            "                                                                                                  \n",
            "==================================================================================================\n",
            "Total params: 22096 (86.31 KB)\n",
            "Trainable params: 22096 (86.31 KB)\n",
            "Non-trainable params: 0 (0.00 Byte)\n",
            "__________________________________________________________________________________________________\n",
            "WARNING:tensorflow:From c:\\Python311\\Lib\\site-packages\\keras\\src\\utils\\tf_utils.py:492: The name tf.ragged.RaggedTensorValue is deprecated. Please use tf.compat.v1.ragged.RaggedTensorValue instead.\n",
            "\n",
            "7602/7602 [==============================] - ETA: 0s - loss: 0.0714WARNING:tensorflow:Early stopping conditioned on metric `val_loss` which is not available. Available metrics are: loss\n",
            "7602/7602 [==============================] - 1999s 262ms/step - loss: 0.0714\n"
          ]
        },
        {
          "data": {
            "text/plain": [
              "<keras.src.callbacks.History at 0x1d84b1d52d0>"
            ]
          },
          "execution_count": 4,
          "metadata": {},
          "output_type": "execute_result"
=======
          "output_type": "stream",
          "name": "stdout",
          "text": [
            "Model: \"model_2\"\n",
            "__________________________________________________________________________________________________\n",
            " Layer (type)                Output Shape                 Param #   Connected to                  \n",
            "==================================================================================================\n",
            " input_3 (InputLayer)        [(None, 640, 4)]             0         []                            \n",
            "                                                                                                  \n",
            " positional_encoding_2 (Pos  (None, 640, 4)               2560      ['input_3[0][0]']             \n",
            " itionalEncoding)                                                                                 \n",
            "                                                                                                  \n",
            " layer_normalization_4 (Lay  (None, 640, 4)               8         ['positional_encoding_2[0][0]'\n",
            " erNormalization)                                                   ]                             \n",
            "                                                                                                  \n",
            " multi_head_attention_2 (Mu  (None, 640, 4)               19460     ['layer_normalization_4[0][0]'\n",
            " ltiHeadAttention)                                                  , 'layer_normalization_4[0][0]\n",
            "                                                                    ']                            \n",
            "                                                                                                  \n",
            " dropout_6 (Dropout)         (None, 640, 4)               0         ['multi_head_attention_2[0][0]\n",
            "                                                                    ']                            \n",
            "                                                                                                  \n",
            " add_4 (Add)                 (None, 640, 4)               0         ['positional_encoding_2[0][0]'\n",
            "                                                                    , 'dropout_6[0][0]']          \n",
            "                                                                                                  \n",
            " layer_normalization_5 (Lay  (None, 640, 4)               8         ['add_4[0][0]']               \n",
            " erNormalization)                                                                                 \n",
            "                                                                                                  \n",
            " sequential_2 (Sequential)   (None, 640, 4)               76        ['layer_normalization_5[0][0]'\n",
            "                                                                    ]                             \n",
            "                                                                                                  \n",
            " add_5 (Add)                 (None, 640, 4)               0         ['layer_normalization_5[0][0]'\n",
            "                                                                    , 'sequential_2[0][0]']       \n",
            "                                                                                                  \n",
            " dense_8 (Dense)             (None, 640, 4)               20        ['add_5[0][0]']               \n",
            "                                                                                                  \n",
            "==================================================================================================\n",
            "Total params: 22132 (86.45 KB)\n",
            "Trainable params: 22132 (86.45 KB)\n",
            "Non-trainable params: 0 (0.00 Byte)\n",
            "__________________________________________________________________________________________________\n",
            "Epoch 1/8\n",
            "7602/7602 [==============================] - 186s 24ms/step - loss: 0.0865\n",
            "Epoch 2/8\n",
            "7602/7602 [==============================] - 184s 24ms/step - loss: 0.0538\n",
            "Epoch 3/8\n",
            "7602/7602 [==============================] - 182s 24ms/step - loss: 0.0517\n",
            "Epoch 4/8\n",
            "7602/7602 [==============================] - 182s 24ms/step - loss: 0.0512\n",
            "Epoch 5/8\n",
            "7602/7602 [==============================] - 182s 24ms/step - loss: 0.0509\n",
            "Epoch 6/8\n",
            "7602/7602 [==============================] - 182s 24ms/step - loss: 0.0508\n",
            "Epoch 7/8\n",
            "7602/7602 [==============================] - 182s 24ms/step - loss: 0.0508\n",
            "Epoch 8/8\n",
            "7602/7602 [==============================] - 182s 24ms/step - loss: 0.0508\n"
          ]
        },
        {
          "output_type": "execute_result",
          "data": {
            "text/plain": [
              "<keras.src.callbacks.History at 0x7c74355f4490>"
            ]
          },
          "metadata": {},
          "execution_count": 41
>>>>>>> c8b06c1e8cefe04988eb69948e3d7a4560ca319e
        }
      ],
      "source": [
        "# Model Configuration\n",
<<<<<<< HEAD
        "from keras.callbacks import EarlyStopping\n",
=======
>>>>>>> c8b06c1e8cefe04988eb69948e3d7a4560ca319e
        "sequence_size = 10 * 64  # Flatten the spatial dimensions (10 frames, 64 points)\n",
        "embedding_dim = 4       # Features dimension\n",
        "head_size = 256          # Size of each attention head\n",
        "num_heads = 4           # Number of attention heads\n",
<<<<<<< HEAD
        "ff_dim = 4            # Hidden layer size in feed forward network\n",
        "dropout_rate = 0.1      # Dropout rate\n",
        "\n",
        "# sequence_size = 10 * 64  # Flatten the spatial dimensions (10 frames, 64 points)\n",
        "# embedding_dim = 4       # Features dimension\n",
        "# head_size = 256          # Size of each attention head\n",
        "# num_heads = 4           # Number of attention heads\n",
        "# ff_dim = 8            # Hidden layer size in feed forward network\n",
        "# dropout_rate = 0.1      # Dropout rate\n",
        "\n",
=======
        "ff_dim = 8            # Hidden layer size in feed forward network\n",
        "dropout_rate = 0.1      # Dropout rate\n",
        "\n",
>>>>>>> c8b06c1e8cefe04988eb69948e3d7a4560ca319e
        "# Build and compile the model\n",
        "model = build_transformer_model(sequence_size, embedding_dim, head_size, num_heads, ff_dim, dropout_rate)\n",
        "model.compile(optimizer='adam', loss='mse')\n",
        "\n",
        "# Model summary\n",
        "model.summary()\n",
        "\n",
        "# Reshape the training data to fit the model input\n",
<<<<<<< HEAD
        "train_data_reshaped = np.array(train_data.reshape(-1, sequence_size, embedding_dim))\n",
        "#test_data_reshaped = np.array(test_data.reshape(-1, sequence_size, embedding_dim))\n",
        "# Train the model\n",
        "early_stopping = EarlyStopping(monitor='val_loss', patience=3, restore_best_weights=True)\n",
        "\n",
        "model.fit(train_data_reshaped, train_data_reshaped, epochs=1, batch_size=8,callbacks=[early_stopping])\n",
=======
        "train_data_reshaped = train_data.reshape(-1, sequence_size, embedding_dim)\n",
        "\n",
        "# Train the model\n",
        "model.fit(train_data_reshaped, train_data_reshaped, epochs=8, batch_size=8)\n",
>>>>>>> c8b06c1e8cefe04988eb69948e3d7a4560ca319e
        "\n",
        "# After training, you can use the reconstruction error to detect anomalies in new data."
      ]
    },
    {
      "cell_type": "code",
<<<<<<< HEAD
      "execution_count": 5,
      "metadata": {
        "id": "U2dhyASFKOVB",
        "vscode": {
          "languageId": "ruby"
        }
      },
      "outputs": [
        {
          "name": "stderr",
          "output_type": "stream",
          "text": [
            "c:\\Python311\\Lib\\site-packages\\keras\\src\\engine\\training.py:3103: UserWarning: You are saving your model as an HDF5 file via `model.save()`. This file format is considered legacy. We recommend using instead the native Keras format, e.g. `model.save('my_model.keras')`.\n",
            "  saving_api.save_model(\n"
          ]
        }
      ],
      "source": [
        "#model.save(project_path + 'saved_model/mymodel1', save_format='tf')\n",
        "model.save(project_path + 'saved_model/mymodel4', save_format='h5')\n",
        "#loaded_model = tf.keras.models.load_model(project_path + 'saved_model/mymodel1')\n",
        "#change this to current variabeles used in model\n",
        "#sequence_size = 10 * 64  # Flatten the spatial dimensions (10 frames, 64 points)\n",
        "#embedding_dim = 4      # Features dimension\n",
        "#head_size = 256          # Size of each attention head\n",
        "#num_heads = 4           # Number of attention heads\n",
        "#ff_dim = 8            # Hidden layer size in feed forward network\n",
        "#dropout_rate = 0.1      # Dropout rate\n"
=======
      "execution_count": null,
      "metadata": {
        "id": "U2dhyASFKOVB"
      },
      "outputs": [],
      "source": [
        "#model.save(project_path + 'saved_model/mymodel1', save_format='tf')\n",
        "loaded_model = tf.keras.models.load_model(project_path + 'saved_model/mymodel1')\n",
        "sequence_size = 10 * 64  # Flatten the spatial dimensions (10 frames, 64 points)\n",
        "embedding_dim = 4      # Features dimension\n",
        "head_size = 256          # Size of each attention head\n",
        "num_heads = 4           # Number of attention heads\n",
        "ff_dim = 8            # Hidden layer size in feed forward network\n",
        "dropout_rate = 0.1      # Dropout rate\n"
>>>>>>> c8b06c1e8cefe04988eb69948e3d7a4560ca319e
      ]
    },
    {
      "cell_type": "code",
<<<<<<< HEAD
      "execution_count": 6,
=======
      "execution_count": null,
>>>>>>> c8b06c1e8cefe04988eb69948e3d7a4560ca319e
      "metadata": {
        "colab": {
          "base_uri": "https://localhost:8080/"
        },
        "id": "jSTZKHPvKOVC",
        "outputId": "454b196c-5179-421a-c89d-0df381aa0b9e"
      },
      "outputs": [
        {
<<<<<<< HEAD
          "name": "stdout",
          "output_type": "stream",
=======
          "output_type": "stream",
          "name": "stdout",
>>>>>>> c8b06c1e8cefe04988eb69948e3d7a4560ca319e
          "text": [
            "INFO: Total inference motion pattern data shape: (1078, 10, 64, 4)\n",
            "INFO: Total inference motion pattern data shape: (1078, 10, 64, 4)\n",
            "<class 'numpy.ndarray'>\n",
            "<class 'list'>\n"
          ]
        },
        {
<<<<<<< HEAD
=======
          "output_type": "execute_result",
>>>>>>> c8b06c1e8cefe04988eb69948e3d7a4560ca319e
          "data": {
            "text/plain": [
              "(1078, 640, 4)"
            ]
          },
<<<<<<< HEAD
          "execution_count": 6,
          "metadata": {},
          "output_type": "execute_result"
=======
          "metadata": {},
          "execution_count": 21
>>>>>>> c8b06c1e8cefe04988eb69948e3d7a4560ca319e
        }
      ],
      "source": [
        "test_data       = np.load(project_path + 'data/normal_test_data.npy', allow_pickle=True)\n",
        "inference       =  project_path + 'data/DS1/DS1_4falls'\n",
        "fall_data, centroidZ_history = data_preproc().load_bin(inference + '.npy', fortrain=False)\n",
        "normalin =  project_path + 'data/DS1/DS1_normal'\n",
        "normal_data, centroidZ_history = data_preproc().load_bin(inference + '.npy', fortrain=False)\n",
        "print(type(train_data))\n",
        "print(type(fall_data))\n",
        "test_data_reshaped = test_data.reshape(-1, sequence_size, embedding_dim)\n",
        "\n",
        "fall_data=np.array(fall_data)\n",
        "fall_data_reshaped = fall_data.reshape(-1, sequence_size, embedding_dim)\n",
        "normal_data=np.array(normal_data)\n",
        "normal_data_reshaped = normal_data.reshape(-1, sequence_size, embedding_dim)\n",
        "\n",
        "shape(fall_data_reshaped)\n"
      ]
    },
    {
      "cell_type": "code",
<<<<<<< HEAD
      "execution_count": 15,
      "metadata": {
        "colab": {
          "base_uri": "https://localhost:8080/"
        },
        "id": "Q9ISVpgPOSbg",
        "outputId": "d8746860-bb46-4ba2-b4b2-cf9a40344937"
      },
      "outputs": [
        {
          "name": "stdout",
          "output_type": "stream",
          "text": [
            "34/34 [==============================] - 10s 306ms/step\n",
            "34/34 [==============================] - 10s 288ms/step\n"
          ]
        }
      ],
      "source": [
        "\n",
        "def calculate_reconstruction_error_per_group(loaded_model, data, group_size=1):\n",
=======
      "source": [
        "\n",
        "def calculate_reconstruction_error_per_group(model, data, group_size=10):\n",
>>>>>>> c8b06c1e8cefe04988eb69948e3d7a4560ca319e
        "    # Predict the reconstruction of the input data\n",
        "    reconstructed_data = model.predict(data)\n",
        "    # Reshape the data to group every 'group_size' frames\n",
        "    original_data_grouped = data.reshape(-1, group_size, 64, data.shape[-1])\n",
        "    reconstructed_data_grouped = reconstructed_data.reshape(-1, group_size, 64, reconstructed_data.shape[-1])\n",
        "    # Calculate the MSE for each group\n",
        "    mse_per_group = np.mean(np.square(original_data_grouped - reconstructed_data_grouped), axis=(1, 2, 3))\n",
        "    return mse_per_group\n",
        "\n",
        "# Assuming 'test_data' is your test dataset with the shape (15205, 640, 4)\n",
        "# And 'model' is your trained model\n",
        "# The following line is commented out because we don't have the actual model and data to perform the prediction\n",
<<<<<<< HEAD
        "#reconstruction_errors_per_10_frames = calculate_reconstruction_error_per_group(model, normal_data_reshaped)\n",
        "reconstruction_errors_per_10_frames = calculate_reconstruction_error_per_group(model, fall_data_reshaped)\n",
        "reconstructed_data = model.predict(fall_data_reshaped)\n",
        "# Print the shape of the reconstruction errors array to verify the result\n",
        "# print(reconstruction_errors_per_10_frames.shape)"
=======
        "reconstruction_errors_per_10_frames = calculate_reconstruction_error_per_group(model, normal_data_reshaped)\n",
        "\n",
        "# Print the shape of the reconstruction errors array to verify the result\n",
        "# print(reconstruction_errors_per_10_frames.shape)"
      ],
      "metadata": {
        "colab": {
          "base_uri": "https://localhost:8080/"
        },
        "id": "Q9ISVpgPOSbg",
        "outputId": "d8746860-bb46-4ba2-b4b2-cf9a40344937"
      },
      "execution_count": null,
      "outputs": [
        {
          "output_type": "stream",
          "name": "stdout",
          "text": [
            "34/34 [==============================] - 69s 2s/step\n"
          ]
        }
>>>>>>> c8b06c1e8cefe04988eb69948e3d7a4560ca319e
      ]
    },
    {
      "cell_type": "code",
<<<<<<< HEAD
      "execution_count": 20,
      "metadata": {
        "colab": {
          "base_uri": "https://localhost:8080/",
          "height": 575
        },
        "id": "xkCdoE6lrZUM",
        "outputId": "9fbb609e-07c8-4d03-ea30-bc0e5f267ea2"
      },
      "outputs": [
        {
          "data": {
            "image/png": "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",
            "text/plain": [
              "<Figure size 1000x600 with 1 Axes>"
            ]
          },
          "metadata": {},
          "output_type": "display_data"
        }
      ],
=======
>>>>>>> c8b06c1e8cefe04988eb69948e3d7a4560ca319e
      "source": [
        "import matplotlib.pyplot as plt\n",
        "import numpy as np\n",
        "\n",
        "# Assuming 'reconstruction_errors' is a list or array containing the reconstruction errors\n",
        "# for each data point in your test set\n",
        "\n",
        "# Plot the reconstruction errors\n",
        "plt.figure(figsize=(10, 6))\n",
        "plt.plot(reconstruction_errors_per_10_frames)\n",
<<<<<<< HEAD
        "#plt.plot(reconstructed_data)\n",
        "#plt.ylim(0,2)\n",
=======
        "plt.ylim(0,2)\n",
>>>>>>> c8b06c1e8cefe04988eb69948e3d7a4560ca319e
        "plt.title('Reconstruction Error')\n",
        "plt.xlabel('Data Point Index')\n",
        "plt.ylabel('Reconstruction Error')\n",
        "plt.grid(True)\n",
        "plt.show()"
<<<<<<< HEAD
=======
      ],
      "metadata": {
        "colab": {
          "base_uri": "https://localhost:8080/",
          "height": 575
        },
        "id": "xkCdoE6lrZUM",
        "outputId": "9fbb609e-07c8-4d03-ea30-bc0e5f267ea2"
      },
      "execution_count": null,
      "outputs": [
        {
          "output_type": "display_data",
          "data": {
            "text/plain": [
              "<Figure size 1000x600 with 1 Axes>"
            ],
            "image/png": "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\n"
          },
          "metadata": {}
        }
>>>>>>> c8b06c1e8cefe04988eb69948e3d7a4560ca319e
      ]
    },
    {
      "cell_type": "code",
<<<<<<< HEAD
      "execution_count": null,
      "metadata": {
        "id": "QaN9xmWsQA9M"
      },
      "outputs": [],
=======
>>>>>>> c8b06c1e8cefe04988eb69948e3d7a4560ca319e
      "source": [
        "\n",
        "class compute_metric:\n",
        "    def __init__(self):\n",
        "        pass\n",
        "\n",
        "    def detect_falls(self, loss_history, centroidZ_history, threshold):\n",
        "        assert len(loss_history) == len(centroidZ_history), \"ERROR: The length of loss history is different than the length of centroidZ history!\"\n",
        "        seq_len                 = len(loss_history)\n",
        "        win_len                 = 20 # Detection window length on account of 2 seconds for 10 fps radar rate\n",
        "        centroidZ_dropthres     = 0.6\n",
        "        i                       = int(win_len/2)\n",
        "        detected_falls_idx      = []\n",
        "        # Firstly, detect the fall centers based on the centroidZ drop\n",
        "        while i < (seq_len - win_len/2):\n",
        "            detection_window_middle  = i\n",
        "            detection_window_lf_edge = int(detection_window_middle - win_len/2)\n",
        "            detection_window_rh_edge = int(detection_window_middle + win_len/2)\n",
        "            # Search the centroidZ drop\n",
        "            if centroidZ_history[detection_window_lf_edge] - centroidZ_history[detection_window_rh_edge] >= centroidZ_dropthres:\n",
        "                detected_falls_idx.append(int(detection_window_middle))\n",
        "            i += 1\n",
        "\n",
        "        # Secondly, if a sequence of fall happen within a window less than win_len, we combine these falls into one fall centered at the middle of this sequence\n",
        "        i = 0\n",
        "        processed_detected_falls_idx = []\n",
        "        while i < len(detected_falls_idx):\n",
        "            j = i\n",
        "            while True:\n",
        "                if j == len(detected_falls_idx):\n",
        "                    break\n",
        "                if detected_falls_idx[j] - detected_falls_idx[i] > win_len:\n",
        "                    break\n",
        "                j += 1\n",
        "            processed_detected_falls_idx.append(int((detected_falls_idx[i] + detected_falls_idx[j-1])/2))\n",
        "            i = j\n",
        "\n",
        "        # Thirdly, find id there is an anomaly level (or loss history) spike in the detection window\n",
        "        ones_idx                    = np.argwhere(np.array(loss_history)>=threshold).flatten()\n",
        "        fall_binseq                 = np.zeros(seq_len)\n",
        "        fall_binseq[ones_idx]       = 1\n",
        "        final_detected_falls_idx    = []\n",
        "        i = 0\n",
        "        while i < len(processed_detected_falls_idx):\n",
        "            detection_window_middle  = int(processed_detected_falls_idx[i])\n",
        "            detection_window_lf_edge = int(detection_window_middle - win_len/2)\n",
        "            detection_window_rh_edge = int(detection_window_middle + win_len/2)\n",
        "            if 1 in fall_binseq[detection_window_lf_edge:detection_window_rh_edge]:\n",
        "                final_detected_falls_idx.append(processed_detected_falls_idx[i])\n",
        "            i += 1\n",
        "\n",
        "        return final_detected_falls_idx, len(processed_detected_falls_idx)\n",
        "\n",
        "    def find_tpfpfn(self, detected_falls_idx, gt_falls_idx):\n",
        "        n_detected_falls    = len(detected_falls_idx)\n",
        "        falls_tp            = []\n",
        "        falls_fp            = []\n",
        "        falls_fn            = list(gt_falls_idx)\n",
        "        win_len             = 20\n",
        "        for i in range(n_detected_falls):\n",
        "            n_gt_falls      = len(falls_fn)\n",
        "            j               = 0\n",
        "            while j < n_gt_falls:\n",
        "                # Find a gt fall index whose window covers the detected fall index, so it's true positive\n",
        "                if int(falls_fn[j]-win_len/2) <= detected_falls_idx[i] <= int(falls_fn[j]+win_len/2):\n",
        "                    # Remove the true positive from the gt_falls_idx list, finally only false negative remains\n",
        "                    falls_fn.pop(j)\n",
        "                    falls_tp.append(i)\n",
        "                    break\n",
        "                j += 1\n",
        "            # Dn not find a gt fall index whose window covers the detected fall index, so it's false positive\n",
        "            if j == n_gt_falls:\n",
        "                falls_fp.append(i)\n",
        "\n",
        "        return falls_tp, falls_fp, falls_fn\n",
        "\n",
        "    def cal_roc(self, loss_history, centroidZ_history, gt_falls_idx):\n",
        "        n_gt_falls = len(gt_falls_idx)\n",
        "        print(\"How many falls?\", n_gt_falls)\n",
        "        tpr, fpr = [], []\n",
        "        for threshold in np.arange(0.0, 10.0, 0.1):\n",
        "            detected_falls_idx, _           = self.detect_falls(loss_history, centroidZ_history, threshold)\n",
        "            falls_tp, falls_fp, falls_fn    = self.find_tpfpfn(detected_falls_idx, gt_falls_idx)\n",
        "            # Save the true positve rate for this threshold.\n",
        "            tpr.append(len(falls_tp)/n_gt_falls)\n",
        "            # Save the number of false positve, or missed fall detection, for this threshold\n",
        "            fpr.append(len(falls_fp))\n",
        "        return tpr, fpr"
<<<<<<< HEAD
      ]
    },
    {
      "cell_type": "code",
      "execution_count": null,
      "metadata": {
        "colab": {
          "base_uri": "https://localhost:8080/"
        },
        "id": "fpoUI8f5WXjq",
        "outputId": "7ca4e892-b5ae-4d34-ad81-1320771aca00"
      },
      "outputs": [
        {
          "data": {
            "text/plain": [
              "(60278, 10, 64, 4)"
            ]
          },
          "execution_count": 28,
          "metadata": {},
          "output_type": "execute_result"
        }
      ],
=======
      ],
      "metadata": {
        "id": "QaN9xmWsQA9M"
      },
      "execution_count": null,
      "outputs": []
    },
    {
      "cell_type": "code",
>>>>>>> c8b06c1e8cefe04988eb69948e3d7a4560ca319e
      "source": [
        "\n",
        "    # Load the models\n",
        "    model                                   = loaded_model\n",
        "    all_file =  project_path + 'data/DS2/DS2'\n",
        "\n",
        "    # Load inference dataset and the ground truth timesheet\n",
        "    # Ground truth time index file exists\n",
        "    if os.path.exists(all_file + '.csv'):\n",
        "        gt_falls_idx                        = np.genfromtxt(all_file + '.csv', delimiter=',').astype(int)\n",
        "    # Maybe this file doesn't contain any falls\n",
        "    else:\n",
        "        gt_falls_idx                        = []\n",
        "    shape(inference_1)"
<<<<<<< HEAD
=======
      ],
      "metadata": {
        "id": "fpoUI8f5WXjq",
        "outputId": "7ca4e892-b5ae-4d34-ad81-1320771aca00",
        "colab": {
          "base_uri": "https://localhost:8080/"
        }
      },
      "execution_count": null,
      "outputs": [
        {
          "output_type": "execute_result",
          "data": {
            "text/plain": [
              "(60278, 10, 64, 4)"
            ]
          },
          "metadata": {},
          "execution_count": 28
        }
>>>>>>> c8b06c1e8cefe04988eb69948e3d7a4560ca319e
      ]
    },
    {
      "cell_type": "code",
      "execution_count": null,
      "metadata": {
        "colab": {
          "base_uri": "https://localhost:8080/"
        },
        "id": "lYUnHiGDKOVD",
        "outputId": "9ffd6dfa-245b-45e7-db63-ffffef8ca81d"
      },
      "outputs": [
        {
<<<<<<< HEAD
          "name": "stdout",
          "output_type": "stream",
=======
          "output_type": "stream",
          "name": "stdout",
>>>>>>> c8b06c1e8cefe04988eb69948e3d7a4560ca319e
          "text": [
            " 198/1884 [==>...........................] - ETA: 1:05:03"
          ]
        }
      ],
      "source": [
        "\n",
        "    #inference_1, centroidZ_history = data_preproc().load_bin(all_file + '.npy', fortrain=False)\n",
        "    inference_1=np.array(inference_1)\n",
        "    inference = np.moveaxis(inference_1, 1, 2).reshape(inference_1.shape[0], sequence_size, embedding_dim)\n",
        "    #inference = inference_1.reshape(-1, sequence_size, embedding_dim)\n",
        "    TRANS_loss_history=model.predict(inference)\n",
        "\n",
        "    # For performace evaluation\n",
        "    calculator                              = compute_metric()\n",
        "    HVRAE_tpr, HVRAE_fp_total                 = calculator.cal_roc(TRANS_loss_history, centroidZ_history, gt_falls_idx)\n"
      ]
    },
    {
      "cell_type": "code",
<<<<<<< HEAD
      "execution_count": null,
      "metadata": {
        "colab": {
          "base_uri": "https://localhost:8080/",
          "height": 636
        },
        "id": "TgsBUIzWWSLr",
        "outputId": "9acd7ae3-9564-4b38-ef58-fc19d8c56c09"
      },
      "outputs": [
        {
          "ename": "NameError",
          "evalue": "name 'HVRAE_fp_total' is not defined",
          "output_type": "error",
          "traceback": [
            "\u001b[0;31m---------------------------------------------------------------------------\u001b[0m",
            "\u001b[0;31mNameError\u001b[0m                                 Traceback (most recent call last)",
            "\u001b[0;32m<ipython-input-8-d7598240831c>\u001b[0m in \u001b[0;36m<cell line: 6>\u001b[0;34m()\u001b[0m\n\u001b[1;32m      4\u001b[0m \u001b[0mplt\u001b[0m\u001b[0;34m.\u001b[0m\u001b[0mxticks\u001b[0m\u001b[0;34m(\u001b[0m\u001b[0mnp\u001b[0m\u001b[0;34m.\u001b[0m\u001b[0marange\u001b[0m\u001b[0;34m(\u001b[0m\u001b[0;36m0\u001b[0m\u001b[0;34m,\u001b[0m \u001b[0;36m11\u001b[0m\u001b[0;34m,\u001b[0m \u001b[0;36m1\u001b[0m\u001b[0;34m)\u001b[0m\u001b[0;34m)\u001b[0m\u001b[0;34m\u001b[0m\u001b[0;34m\u001b[0m\u001b[0m\n\u001b[1;32m      5\u001b[0m \u001b[0mplt\u001b[0m\u001b[0;34m.\u001b[0m\u001b[0mylim\u001b[0m\u001b[0;34m(\u001b[0m\u001b[0;36m0.0\u001b[0m\u001b[0;34m,\u001b[0m \u001b[0;36m1.1\u001b[0m\u001b[0;34m)\u001b[0m\u001b[0;34m\u001b[0m\u001b[0;34m\u001b[0m\u001b[0m\n\u001b[0;32m----> 6\u001b[0;31m \u001b[0mplt\u001b[0m\u001b[0;34m.\u001b[0m\u001b[0mscatter\u001b[0m\u001b[0;34m(\u001b[0m\u001b[0mHVRAE_fp_total\u001b[0m\u001b[0;34m,\u001b[0m \u001b[0mHVRAE_tpr\u001b[0m\u001b[0;34m,\u001b[0m \u001b[0mc\u001b[0m\u001b[0;34m=\u001b[0m\u001b[0;34m'r'\u001b[0m\u001b[0;34m)\u001b[0m\u001b[0;34m\u001b[0m\u001b[0;34m\u001b[0m\u001b[0m\n\u001b[0m\u001b[1;32m      7\u001b[0m \u001b[0mplt\u001b[0m\u001b[0;34m.\u001b[0m\u001b[0mplot\u001b[0m\u001b[0;34m(\u001b[0m\u001b[0mHVRAE_fp_total\u001b[0m\u001b[0;34m,\u001b[0m \u001b[0mHVRAE_tpr\u001b[0m\u001b[0;34m,\u001b[0m \u001b[0mc\u001b[0m\u001b[0;34m=\u001b[0m\u001b[0;34m'r'\u001b[0m\u001b[0;34m,\u001b[0m \u001b[0mlinewidth\u001b[0m\u001b[0;34m=\u001b[0m\u001b[0;36m2\u001b[0m\u001b[0;34m,\u001b[0m \u001b[0mlabel\u001b[0m\u001b[0;34m=\u001b[0m\u001b[0;34m'HVRAE ROC'\u001b[0m\u001b[0;34m)\u001b[0m\u001b[0;34m\u001b[0m\u001b[0;34m\u001b[0m\u001b[0m\n\u001b[1;32m      8\u001b[0m \u001b[0mplt\u001b[0m\u001b[0;34m.\u001b[0m\u001b[0mlegend\u001b[0m\u001b[0;34m(\u001b[0m\u001b[0mloc\u001b[0m\u001b[0;34m=\u001b[0m\u001b[0;34m\"lower right\"\u001b[0m\u001b[0;34m)\u001b[0m\u001b[0;34m\u001b[0m\u001b[0;34m\u001b[0m\u001b[0m\n",
            "\u001b[0;31mNameError\u001b[0m: name 'HVRAE_fp_total' is not defined"
          ]
        },
        {
          "data": {
            "image/png": "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",
            "text/plain": [
              "<Figure size 640x480 with 1 Axes>"
            ]
          },
          "metadata": {},
          "output_type": "display_data"
        }
      ],
=======
>>>>>>> c8b06c1e8cefe04988eb69948e3d7a4560ca319e
      "source": [
        "\n",
        "    # Plot Receiver operating characteristic (ROC) curves\n",
        "    plt.figure()\n",
        "    plt.xlim(-0.1, 10)\n",
        "    plt.xticks(np.arange(0, 11, 1))\n",
        "    plt.ylim(0.0, 1.1)\n",
        "    plt.scatter(HVRAE_fp_total, HVRAE_tpr, c='r')\n",
        "    plt.plot(HVRAE_fp_total, HVRAE_tpr, c='r', linewidth=2, label='HVRAE ROC')\n",
        "    plt.legend(loc=\"lower right\")\n",
        "    plt.xlabel(\"Number od False Alarms\")\n",
        "    plt.ylabel(\"True Fall Detection Rate\")\n",
        "    plt.savefig(inferencedata_file + '_ROC.png')\n",
        "    plt.show()"
<<<<<<< HEAD
=======
      ],
      "metadata": {
        "id": "TgsBUIzWWSLr",
        "outputId": "9acd7ae3-9564-4b38-ef58-fc19d8c56c09",
        "colab": {
          "base_uri": "https://localhost:8080/",
          "height": 636
        }
      },
      "execution_count": null,
      "outputs": [
        {
          "output_type": "error",
          "ename": "NameError",
          "evalue": "name 'HVRAE_fp_total' is not defined",
          "traceback": [
            "\u001b[0;31m---------------------------------------------------------------------------\u001b[0m",
            "\u001b[0;31mNameError\u001b[0m                                 Traceback (most recent call last)",
            "\u001b[0;32m<ipython-input-8-d7598240831c>\u001b[0m in \u001b[0;36m<cell line: 6>\u001b[0;34m()\u001b[0m\n\u001b[1;32m      4\u001b[0m \u001b[0mplt\u001b[0m\u001b[0;34m.\u001b[0m\u001b[0mxticks\u001b[0m\u001b[0;34m(\u001b[0m\u001b[0mnp\u001b[0m\u001b[0;34m.\u001b[0m\u001b[0marange\u001b[0m\u001b[0;34m(\u001b[0m\u001b[0;36m0\u001b[0m\u001b[0;34m,\u001b[0m \u001b[0;36m11\u001b[0m\u001b[0;34m,\u001b[0m \u001b[0;36m1\u001b[0m\u001b[0;34m)\u001b[0m\u001b[0;34m)\u001b[0m\u001b[0;34m\u001b[0m\u001b[0;34m\u001b[0m\u001b[0m\n\u001b[1;32m      5\u001b[0m \u001b[0mplt\u001b[0m\u001b[0;34m.\u001b[0m\u001b[0mylim\u001b[0m\u001b[0;34m(\u001b[0m\u001b[0;36m0.0\u001b[0m\u001b[0;34m,\u001b[0m \u001b[0;36m1.1\u001b[0m\u001b[0;34m)\u001b[0m\u001b[0;34m\u001b[0m\u001b[0;34m\u001b[0m\u001b[0m\n\u001b[0;32m----> 6\u001b[0;31m \u001b[0mplt\u001b[0m\u001b[0;34m.\u001b[0m\u001b[0mscatter\u001b[0m\u001b[0;34m(\u001b[0m\u001b[0mHVRAE_fp_total\u001b[0m\u001b[0;34m,\u001b[0m \u001b[0mHVRAE_tpr\u001b[0m\u001b[0;34m,\u001b[0m \u001b[0mc\u001b[0m\u001b[0;34m=\u001b[0m\u001b[0;34m'r'\u001b[0m\u001b[0;34m)\u001b[0m\u001b[0;34m\u001b[0m\u001b[0;34m\u001b[0m\u001b[0m\n\u001b[0m\u001b[1;32m      7\u001b[0m \u001b[0mplt\u001b[0m\u001b[0;34m.\u001b[0m\u001b[0mplot\u001b[0m\u001b[0;34m(\u001b[0m\u001b[0mHVRAE_fp_total\u001b[0m\u001b[0;34m,\u001b[0m \u001b[0mHVRAE_tpr\u001b[0m\u001b[0;34m,\u001b[0m \u001b[0mc\u001b[0m\u001b[0;34m=\u001b[0m\u001b[0;34m'r'\u001b[0m\u001b[0;34m,\u001b[0m \u001b[0mlinewidth\u001b[0m\u001b[0;34m=\u001b[0m\u001b[0;36m2\u001b[0m\u001b[0;34m,\u001b[0m \u001b[0mlabel\u001b[0m\u001b[0;34m=\u001b[0m\u001b[0;34m'HVRAE ROC'\u001b[0m\u001b[0;34m)\u001b[0m\u001b[0;34m\u001b[0m\u001b[0;34m\u001b[0m\u001b[0m\n\u001b[1;32m      8\u001b[0m \u001b[0mplt\u001b[0m\u001b[0;34m.\u001b[0m\u001b[0mlegend\u001b[0m\u001b[0;34m(\u001b[0m\u001b[0mloc\u001b[0m\u001b[0;34m=\u001b[0m\u001b[0;34m\"lower right\"\u001b[0m\u001b[0;34m)\u001b[0m\u001b[0;34m\u001b[0m\u001b[0;34m\u001b[0m\u001b[0m\n",
            "\u001b[0;31mNameError\u001b[0m: name 'HVRAE_fp_total' is not defined"
          ]
        },
        {
          "output_type": "display_data",
          "data": {
            "text/plain": [
              "<Figure size 640x480 with 1 Axes>"
            ],
            "image/png": "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\n"
          },
          "metadata": {}
        }
>>>>>>> c8b06c1e8cefe04988eb69948e3d7a4560ca319e
      ]
    }
  ],
  "metadata": {
<<<<<<< HEAD
    "accelerator": "GPU",
    "colab": {
      "gpuType": "T4",
      "provenance": []
    },
=======
>>>>>>> c8b06c1e8cefe04988eb69948e3d7a4560ca319e
    "kernelspec": {
      "display_name": "Python 3",
      "name": "python3"
    },
    "language_info": {
      "codemirror_mode": {
        "name": "ipython",
        "version": 3
      },
      "file_extension": ".py",
      "mimetype": "text/x-python",
      "name": "python",
      "nbconvert_exporter": "python",
      "pygments_lexer": "ipython3",
<<<<<<< HEAD
      "version": "3.11.8"
    }
  },
  "nbformat": 4,
  "nbformat_minor": 0
}
=======
      "version": "3.11.0rc1"
    },
    "colab": {
      "provenance": [],
      "gpuType": "T4",
      "include_colab_link": true
    },
    "accelerator": "GPU"
  },
  "nbformat": 4,
  "nbformat_minor": 0
}
>>>>>>> c8b06c1e8cefe04988eb69948e3d7a4560ca319e
