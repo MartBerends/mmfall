{
  "cells": [
    {
      "cell_type": "code",
      "execution_count": 1,
      "metadata": {
        "id": "hYKMU9QfKOU7"
      },
      "outputs": [
        {
          "name": "stdout",
          "output_type": "stream",
          "text": [
            "WARNING:tensorflow:From c:\\Python311\\Lib\\site-packages\\keras\\src\\losses.py:2976: The name tf.losses.sparse_softmax_cross_entropy is deprecated. Please use tf.compat.v1.losses.sparse_softmax_cross_entropy instead.\n",
            "\n"
          ]
        }
      ],
      "source": [
        "import argparse, os\n",
        "import matplotlib.pyplot as plt\n",
        "import numpy as np\n",
        "import random as rn\n",
        "import tensorflow as tf\n",
        "from tensorflow.keras import layers\n",
        "from tensorflow.keras.layers import MultiHeadAttention, LayerNormalization, Dropout\n",
        "from keras import backend as K\n",
        "from keras import optimizers\n",
        "from keras.layers import Input, Dense, Flatten, Lambda, Concatenate, Reshape, \\\n",
        "    TimeDistributed, LSTM, RepeatVector, SimpleRNN, Activation\n",
        "from keras.models import Model, load_model\n",
        "from keras.callbacks import TensorBoard\n",
        "from keras.losses import mse\n",
        "from keras.utils import plot_model\n",
        "from numpy import shape\n",
        "\n",
        "import matplotlib.pylab as pylab\n",
        "params = {'legend.fontsize': 'x-large',\n",
        "        #   'figure.figsize': (19.2, 10.8),\n",
        "         'axes.labelsize': 'x-large',\n",
        "         'axes.titlesize':'x-large',\n",
        "         'xtick.labelsize':'x-large',\n",
        "         'ytick.labelsize':'x-large'}\n",
        "pylab.rcParams.update(params)\n",
        "\n",
        "class data_preproc:\n",
        "    def __init__(self):\n",
        "        # One motion pattern is as (self.frames_per_pattern, self.points_per_frame, self.features_per_point)\n",
        "        self.frames_per_pattern     = 10 # For 1 second for 10 fps radar rate\n",
        "        self.points_per_frame       = 64 # We want to oversample every radar frame to 64 points while keeping the mean and variance the same\n",
        "        self.features_per_point     = 4  # The radar can provides us (x, y, z, Doppler, RCS), but we only keep the first four feature, i.e. (x, y, z, Doppler)\n",
        "\n",
        "        # Train and test data split ratio\n",
        "        self.split_ratio            = 0.8\n",
        "\n",
        "        # Rotation matrix due to tilt angle\n",
        "        tilt_angle  = 10.0 # degrees\n",
        "        self.height = 1.8   # meters\n",
        "        self.rotation_matrix = np.array([[1.0, 0.0, 0.0],\\\n",
        "                                        [0.0, np.cos(np.deg2rad(tilt_angle)), np.sin(np.deg2rad(tilt_angle))],\\\n",
        "                                        [0.0, -np.sin(np.deg2rad(tilt_angle)), np.cos(np.deg2rad(tilt_angle))]])\n",
        "\n",
        "    def load_bin(self, binfile_path, fortrain=True):\n",
        "        # Record centroid history for analysis purpose\n",
        "        centroidX_his = []\n",
        "        centroidY_his = []\n",
        "        centroidZ_his = []\n",
        "\n",
        "        # Load the recorded bin file\n",
        "        raw_pointcloud = np.load(binfile_path, allow_pickle=True)\n",
        "\n",
        "        # Accumulated the motion patterns with (self.frames_per_pattern) frames\n",
        "        total_pattern = []\n",
        "        for idx in range(len(raw_pointcloud)-self.frames_per_pattern):\n",
        "            total_pattern.append(raw_pointcloud[idx : (idx + self.frames_per_pattern)])\n",
        "\n",
        "        # Original point vector in the .bin file:\n",
        "        #   [frame number, point ID, target ID, \\\\ Basic information\n",
        "        #   centroidX, centroidY, centroidZ, centroidVelocityX, centroidVelocityY, centroidVelocityZ, \\\\ Centorid information\n",
        "        #   range, azimuth angle, elevation angle, Doppler, SNR, noise level] \\\\ Point information\n",
        "        # Extract the feature vector (delta_x, delta_y, z, D, pointRCS) from the original point vector and do data oversampling proposed in the paper\n",
        "        total_processed_pattern = []\n",
        "        total_processed_no_norm = []\n",
        "        for pattern in total_pattern:\n",
        "            # Get the centroid information from the very first frame in a pattern and do coordiante transformation\n",
        "            # As the centroid is already in the radar Cartesian coordinates, we just need to transfer it to the ground Cartesian coordinates\n",
        "            centroidX, centroidY, centroidZ, centroidVx, centroidVy, centroidVz = pattern[0][0][3], pattern[0][0][4], pattern[0][0][5], pattern[0][0][6], pattern[0][0][7], pattern[0][0][8]\n",
        "            results      = np.matmul(self.rotation_matrix, np.array([centroidX,centroidY,centroidZ]))\n",
        "            centroidX    = results[0]\n",
        "            centroidY    = results[1]\n",
        "            centroidZ    = results[2] + self.height\n",
        "\n",
        "            # Record the centroid history over time\n",
        "            centroidX_his.append(centroidX)\n",
        "            centroidY_his.append(centroidY)\n",
        "            centroidZ_his.append(centroidZ)\n",
        "\n",
        "            processed_pattern  = []\n",
        "            for frame in pattern:\n",
        "                processed_frame = []\n",
        "                for point in frame:\n",
        "                    # Get the original point information.\n",
        "                    pointR, pointAZ, pointEL, pointD, pointSNR, pointNoise = point[9], point[10], point[11], point[12], point[13], point[14]\n",
        "\n",
        "                    # Get the point's position in the Cartesian coord and then do coordiante transformation\n",
        "                    pointX      = pointR*np.cos(pointEL)*np.sin(pointAZ)\n",
        "                    pointY      = pointR*np.cos(pointEL)*np.cos(pointAZ)\n",
        "                    pointZ      = pointR*np.sin(pointEL)\n",
        "                    results     = np.matmul(self.rotation_matrix, np.array([pointX, pointY, pointZ]))\n",
        "                    pointX      = results[0]\n",
        "                    pointY      = results[1]\n",
        "                    pointZ      = results[2] + self.height\n",
        "\n",
        "                    # Subtract the point's position from the centroid in the very first frame in a motion pattern\n",
        "                    delta_x     = pointX - centroidX\n",
        "                    delta_y     = pointY - centroidY\n",
        "                    delta_z     = pointZ\n",
        "                    delta_D     = pointD\n",
        "                    pointRCS    = 4*10*np.log10(pointR) + pointSNR*0.1 + pointNoise*0.1 # in dBsm\n",
        "\n",
        "                    # Form the feature vector for each frame\n",
        "                    feature_vector = [delta_x, delta_y, delta_z, delta_D, pointRCS]\n",
        "                    processed_frame.append(feature_vector[0:self.features_per_point]) # Only keep 3D spatial info and the Doppler\n",
        "                processed_pattern.append(processed_frame)\n",
        "                # Do the data oversampling proposed in the paper\n",
        "                processed_pattern_oversampled = self.proposed_oversampling(processed_pattern)\n",
        "            total_processed_pattern.append(processed_pattern_oversampled)\n",
        "\n",
        "        total_processed_pattern_np = np.array(total_processed_pattern)\n",
        "\n",
        "        # Train and test split\n",
        "        split_idx   = int(total_processed_pattern_np.shape[0]*self.split_ratio)\n",
        "        traindata   = total_processed_pattern_np[0:split_idx]\n",
        "        testdata    = total_processed_pattern_np[split_idx:]\n",
        "\n",
        "        if fortrain is True: # For training, need data split to obtain both training and testing dataset\n",
        "            print(\"INFO: Total normal motion pattern data shape: \" + str(total_processed_pattern_np.shape))\n",
        "            print(\"INFO: Training motion pattern data shape\" + str(traindata.shape))\n",
        "            print(\"INFO: Testing motion pattern data shape\" + str(testdata.shape))\n",
        "            return traindata, testdata\n",
        "        else: # For inference on anomaly dataset\n",
        "            print(\"INFO: Total inference motion pattern data shape: \" + str(total_processed_pattern_np.shape))\n",
        "            return total_processed_pattern, centroidZ_his\n",
        "\n",
        "    def proposed_oversampling(self, processed_pointcloud):\n",
        "        # # Check the input\n",
        "        # point_list = []\n",
        "        # for frame in processed_pointcloud:\n",
        "        #     point_list.extend(frame)\n",
        "        # point_list_np  = np.array(point_list)\n",
        "        # assert (point_list_np.shape[-1] == self.features_per_point), (\"ERROR: Input processed_pointcloud has different feature length rather than %s!\" %(self.features_per_point))\n",
        "\n",
        "        # Do the data oversampling\n",
        "        processed_pointcloud_oversampled = []\n",
        "        for frame in processed_pointcloud:\n",
        "            frame_np = np.array(frame)\n",
        "            # Check if it's empty frame\n",
        "            N = self.points_per_frame\n",
        "            M = frame_np.shape[0]\n",
        "            assert (M != 0), \"ERROR: empty frame detected!\"\n",
        "            # Rescale and padding\n",
        "            mean        = np.mean(frame_np, axis=0)\n",
        "            sigma       = np.std(frame_np, axis=0)\n",
        "            frame_np    = np.sqrt(N/M)*frame_np + mean - np.sqrt(N/M)*mean # Rescale\n",
        "            frame_oversampled = frame_np.tolist()\n",
        "            frame_oversampled.extend([mean]*(N-M)) # Padding with mean\n",
        "            # # Check if mean and sigma keeps the same. Comment for saving time.\n",
        "            # new_mean    = np.mean(np.array(frame_oversampled), axis=0)\n",
        "            # new_sigma   = np.std(np.array(frame_oversampled), axis=0)\n",
        "            # assert np.sum(np.abs(new_mean-mean))<1e-5, (\"ERROR: Mean rescale and padding error!\")\n",
        "            # assert np.sum(np.abs(new_sigma-sigma))<1e-5, (\"ERROR: Sigma rescale and padding error!\")\n",
        "            processed_pointcloud_oversampled.append(frame_oversampled)\n",
        "\n",
        "        processed_pointcloud_oversampled_np = np.array(processed_pointcloud_oversampled)\n",
        "        assert (processed_pointcloud_oversampled_np.shape[-2] == self.points_per_frame), (\"ERROR: The new_frame_data has different number of points per frame rather than %s!\" %(self.points_per_frame))\n",
        "        assert (processed_pointcloud_oversampled_np.shape[-1] == self.features_per_point), (\"ERROR: The new_frame_data has different feature length rather than %s!\" %(self.features_per_point))\n",
        "\n",
        "        return processed_pointcloud_oversampled_np\n",
        "\n"
      ]
    },
    {
      "cell_type": "code",
      "execution_count": null,
      "metadata": {
        "colab": {
          "base_uri": "https://localhost:8080/"
        },
        "id": "u5sX3Ta-KTwI",
        "outputId": "0657b7d4-d69a-4112-e8fc-8b035c170871"
      },
      "outputs": [
        {
          "name": "stdout",
          "output_type": "stream",
          "text": [
            "Drive already mounted at /content/drive; to attempt to forcibly remount, call drive.mount(\"/content/drive\", force_remount=True).\n"
          ]
        }
      ],
      "source": [
        "from google.colab import drive\n",
        "drive.mount('/content/drive')"
      ]
    },
    {
      "cell_type": "code",
      "execution_count": 2,
      "metadata": {
        "colab": {
          "base_uri": "https://localhost:8080/"
        },
        "id": "Q_hXs3sCKOU_",
        "outputId": "d04f7c62-8340-49e2-dc5f-f851a49c5f44"
      },
      "outputs": [
        {
          "name": "stdout",
          "output_type": "stream",
          "text": [
            "INFO: Load train/test data...\n"
          ]
        },
        {
          "data": {
            "text/plain": [
              "(60816, 10, 64, 4)"
            ]
          },
          "execution_count": 2,
          "metadata": {},
          "output_type": "execute_result"
        }
      ],
      "source": [
        "if __name__ == '__main__':\n",
        "    #project_path = '/content/drive/MyDrive/master project/git/mmfall/'\n",
        "    project_path = 'C:/Users/mart_/Documents/master_project/git/mmfall/'\n",
        "print(\"INFO: Load train/test data...\")\n",
        "train_data      = np.load(project_path + 'data/normal_train_data.npy', allow_pickle=True)\n",
        "test_data       = np.load(project_path + 'data/normal_test_data.npy', allow_pickle=True)\n",
        "shape(train_data)"
      ]
    },
    {
      "cell_type": "code",
      "execution_count": 3,
      "metadata": {
        "id": "4OiXwyQBKOVA"
      },
      "outputs": [],
      "source": [
        "\n",
        "# Positional Encoding Layer\n",
        "class PositionalEncoding(layers.Layer):\n",
        "    def __init__(self, sequence_size, embedding_dim, **kwargs):\n",
        "        super(PositionalEncoding, self).__init__(**kwargs)\n",
        "        self.sequence_size = sequence_size\n",
        "        self.embedding_dim = embedding_dim\n",
        "\n",
        "    def build(self, input_shape):\n",
        "        self.positional_embeddings = self.add_weight(\n",
        "            name='pos_embeddings',\n",
        "            shape=(self.sequence_size, self.embedding_dim),\n",
        "            initializer='uniform',\n",
        "            trainable=True,\n",
        "        )\n",
        "\n",
        "    def call(self, x):\n",
        "        return x + self.positional_embeddings\n",
        "\n",
        "# Transformer Encoder Layer\n",
        "def transformer_encoder(inputs, head_size, num_heads, ff_dim, dropout_rate):\n",
        "    # Normalization and Attention\n",
        "    x = layers.LayerNormalization(epsilon=1e-6)(inputs)\n",
        "    x = layers.MultiHeadAttention(\n",
        "        key_dim=head_size, num_heads=num_heads, dropout=dropout_rate)(x, x)\n",
        "    x = layers.Dropout(dropout_rate)(x)\n",
        "    x = layers.Add()([inputs, x])\n",
        "\n",
        "    # Feed Forward Network\n",
        "    ff_network = tf.keras.Sequential([\n",
        "        layers.Dense(ff_dim, activation='relu'),\n",
        "        layers.Dropout(dropout_rate),\n",
        "        layers.Dense(inputs.shape[-1]),\n",
        "    ])\n",
        "\n",
        "    x = layers.LayerNormalization(epsilon=1e-6)(x)\n",
        "    ff_output = ff_network(x)\n",
        "    x = layers.Add()([x, ff_output])\n",
        "    return x\n",
        "\n",
        "# Transformer Model for Anomaly Detection\n",
        "def build_transformer_model(sequence_size, embedding_dim, head_size, num_heads, ff_dim, dropout_rate):\n",
        "    inputs = layers.Input(shape=(sequence_size, embedding_dim))\n",
        "    x = PositionalEncoding(sequence_size, embedding_dim)(inputs)\n",
        "    x = transformer_encoder(x, head_size, num_heads, ff_dim, dropout_rate)\n",
        "\n",
        "    # Reconstruction of the input\n",
        "    outputs = layers.Dense(embedding_dim)(x)\n",
        "\n",
        "    model = tf.keras.Model(inputs=inputs, outputs=outputs)\n",
        "    return model\n",
        "\n"
      ]
    },
    {
      "cell_type": "code",
      "execution_count": 4,
      "metadata": {
        "colab": {
          "base_uri": "https://localhost:8080/"
        },
        "id": "y7D5vQm8KOVB",
        "outputId": "b6d0c11c-e44a-4630-85d6-0fff4a224b4f"
      },
      "outputs": [
        {
          "name": "stdout",
          "output_type": "stream",
          "text": [
            "WARNING:tensorflow:From c:\\Python311\\Lib\\site-packages\\keras\\src\\backend.py:1398: The name tf.executing_eagerly_outside_functions is deprecated. Please use tf.compat.v1.executing_eagerly_outside_functions instead.\n",
            "\n",
            "WARNING:tensorflow:From c:\\Python311\\Lib\\site-packages\\keras\\src\\optimizers\\__init__.py:309: The name tf.train.Optimizer is deprecated. Please use tf.compat.v1.train.Optimizer instead.\n",
            "\n",
            "Model: \"model\"\n",
            "__________________________________________________________________________________________________\n",
            " Layer (type)                Output Shape                 Param #   Connected to                  \n",
            "==================================================================================================\n",
            " input_1 (InputLayer)        [(None, 640, 4)]             0         []                            \n",
            "                                                                                                  \n",
            " positional_encoding (Posit  (None, 640, 4)               2560      ['input_1[0][0]']             \n",
            " ionalEncoding)                                                                                   \n",
            "                                                                                                  \n",
            " layer_normalization (Layer  (None, 640, 4)               8         ['positional_encoding[0][0]'] \n",
            " Normalization)                                                                                   \n",
            "                                                                                                  \n",
            " multi_head_attention (Mult  (None, 640, 4)               19460     ['layer_normalization[0][0]', \n",
            " iHeadAttention)                                                     'layer_normalization[0][0]'] \n",
            "                                                                                                  \n",
            " dropout (Dropout)           (None, 640, 4)               0         ['multi_head_attention[0][0]']\n",
            "                                                                                                  \n",
            " add (Add)                   (None, 640, 4)               0         ['positional_encoding[0][0]', \n",
            "                                                                     'dropout[0][0]']             \n",
            "                                                                                                  \n",
            " layer_normalization_1 (Lay  (None, 640, 4)               8         ['add[0][0]']                 \n",
            " erNormalization)                                                                                 \n",
            "                                                                                                  \n",
            " sequential (Sequential)     (None, 640, 4)               40        ['layer_normalization_1[0][0]'\n",
            "                                                                    ]                             \n",
            "                                                                                                  \n",
            " add_1 (Add)                 (None, 640, 4)               0         ['layer_normalization_1[0][0]'\n",
            "                                                                    , 'sequential[0][0]']         \n",
            "                                                                                                  \n",
            " dense_2 (Dense)             (None, 640, 4)               20        ['add_1[0][0]']               \n",
            "                                                                                                  \n",
            "==================================================================================================\n",
            "Total params: 22096 (86.31 KB)\n",
            "Trainable params: 22096 (86.31 KB)\n",
            "Non-trainable params: 0 (0.00 Byte)\n",
            "__________________________________________________________________________________________________\n",
            "WARNING:tensorflow:From c:\\Python311\\Lib\\site-packages\\keras\\src\\utils\\tf_utils.py:492: The name tf.ragged.RaggedTensorValue is deprecated. Please use tf.compat.v1.ragged.RaggedTensorValue instead.\n",
            "\n",
            "7602/7602 [==============================] - ETA: 0s - loss: 0.0714WARNING:tensorflow:Early stopping conditioned on metric `val_loss` which is not available. Available metrics are: loss\n",
            "7602/7602 [==============================] - 1999s 262ms/step - loss: 0.0714\n"
          ]
        },
        {
          "data": {
            "text/plain": [
              "<keras.src.callbacks.History at 0x1d84b1d52d0>"
            ]
          },
          "execution_count": 4,
          "metadata": {},
          "output_type": "execute_result"
        }
      ],
      "source": [
        "# Model Configuration\n",
        "from keras.callbacks import EarlyStopping\n",
        "sequence_size = 10 * 64  # Flatten the spatial dimensions (10 frames, 64 points)\n",
        "embedding_dim = 4       # Features dimension\n",
        "head_size = 256          # Size of each attention head\n",
        "num_heads = 4           # Number of attention heads\n",
        "ff_dim = 4            # Hidden layer size in feed forward network\n",
        "dropout_rate = 0.1      # Dropout rate\n",
        "\n",
        "# sequence_size = 10 * 64  # Flatten the spatial dimensions (10 frames, 64 points)\n",
        "# embedding_dim = 4       # Features dimension\n",
        "# head_size = 256          # Size of each attention head\n",
        "# num_heads = 4           # Number of attention heads\n",
        "# ff_dim = 8            # Hidden layer size in feed forward network\n",
        "# dropout_rate = 0.1      # Dropout rate\n",
        "\n",
        "# Build and compile the model\n",
        "model = build_transformer_model(sequence_size, embedding_dim, head_size, num_heads, ff_dim, dropout_rate)\n",
        "model.compile(optimizer='adam', loss='mse')\n",
        "\n",
        "# Model summary\n",
        "model.summary()\n",
        "\n",
        "# Reshape the training data to fit the model input\n",
        "train_data_reshaped = np.array(train_data.reshape(-1, sequence_size, embedding_dim))\n",
        "#test_data_reshaped = np.array(test_data.reshape(-1, sequence_size, embedding_dim))\n",
        "# Train the model\n",
        "early_stopping = EarlyStopping(monitor='val_loss', patience=3, restore_best_weights=True)\n",
        "\n",
        "model.fit(train_data_reshaped, train_data_reshaped, epochs=1, batch_size=8,callbacks=[early_stopping])\n",
        "\n",
        "# After training, you can use the reconstruction error to detect anomalies in new data."
      ]
    },
    {
      "cell_type": "code",
      "execution_count": 5,
      "metadata": {
        "id": "U2dhyASFKOVB",
        "vscode": {
          "languageId": "ruby"
        }
      },
      "outputs": [
        {
          "name": "stderr",
          "output_type": "stream",
          "text": [
            "c:\\Python311\\Lib\\site-packages\\keras\\src\\engine\\training.py:3103: UserWarning: You are saving your model as an HDF5 file via `model.save()`. This file format is considered legacy. We recommend using instead the native Keras format, e.g. `model.save('my_model.keras')`.\n",
            "  saving_api.save_model(\n"
          ]
        }
      ],
      "source": [
        "#model.save(project_path + 'saved_model/mymodel1', save_format='tf')\n",
        "model.save(project_path + 'saved_model/mymodel4', save_format='h5')\n",
        "#loaded_model = tf.keras.models.load_model(project_path + 'saved_model/mymodel1')\n",
        "#change this to current variabeles used in model\n",
        "#sequence_size = 10 * 64  # Flatten the spatial dimensions (10 frames, 64 points)\n",
        "#embedding_dim = 4      # Features dimension\n",
        "#head_size = 256          # Size of each attention head\n",
        "#num_heads = 4           # Number of attention heads\n",
        "#ff_dim = 8            # Hidden layer size in feed forward network\n",
        "#dropout_rate = 0.1      # Dropout rate\n"
      ]
    },
    {
      "cell_type": "code",
      "execution_count": 6,
      "metadata": {
        "colab": {
          "base_uri": "https://localhost:8080/"
        },
        "id": "jSTZKHPvKOVC",
        "outputId": "454b196c-5179-421a-c89d-0df381aa0b9e"
      },
      "outputs": [
        {
          "name": "stdout",
          "output_type": "stream",
          "text": [
            "INFO: Total inference motion pattern data shape: (1078, 10, 64, 4)\n",
            "INFO: Total inference motion pattern data shape: (1078, 10, 64, 4)\n",
            "<class 'numpy.ndarray'>\n",
            "<class 'list'>\n"
          ]
        },
        {
          "data": {
            "text/plain": [
              "(1078, 640, 4)"
            ]
          },
          "execution_count": 6,
          "metadata": {},
          "output_type": "execute_result"
        }
      ],
      "source": [
        "test_data       = np.load(project_path + 'data/normal_test_data.npy', allow_pickle=True)\n",
        "inference       =  project_path + 'data/DS1/DS1_4falls'\n",
        "fall_data, centroidZ_history = data_preproc().load_bin(inference + '.npy', fortrain=False)\n",
        "normalin =  project_path + 'data/DS1/DS1_normal'\n",
        "normal_data, centroidZ_history = data_preproc().load_bin(inference + '.npy', fortrain=False)\n",
        "print(type(train_data))\n",
        "print(type(fall_data))\n",
        "test_data_reshaped = test_data.reshape(-1, sequence_size, embedding_dim)\n",
        "\n",
        "fall_data=np.array(fall_data)\n",
        "fall_data_reshaped = fall_data.reshape(-1, sequence_size, embedding_dim)\n",
        "normal_data=np.array(normal_data)\n",
        "normal_data_reshaped = normal_data.reshape(-1, sequence_size, embedding_dim)\n",
        "\n",
        "shape(fall_data_reshaped)\n"
      ]
    },
    {
      "cell_type": "code",
      "execution_count": 15,
      "metadata": {
        "colab": {
          "base_uri": "https://localhost:8080/"
        },
        "id": "Q9ISVpgPOSbg",
        "outputId": "d8746860-bb46-4ba2-b4b2-cf9a40344937"
      },
      "outputs": [
        {
          "name": "stdout",
          "output_type": "stream",
          "text": [
            "34/34 [==============================] - 10s 306ms/step\n",
            "34/34 [==============================] - 10s 288ms/step\n"
          ]
        }
      ],
      "source": [
        "\n",
        "def calculate_reconstruction_error_per_group(loaded_model, data, group_size=1):\n",
        "    # Predict the reconstruction of the input data\n",
        "    reconstructed_data = model.predict(data)\n",
        "    # Reshape the data to group every 'group_size' frames\n",
        "    original_data_grouped = data.reshape(-1, group_size, 64, data.shape[-1])\n",
        "    reconstructed_data_grouped = reconstructed_data.reshape(-1, group_size, 64, reconstructed_data.shape[-1])\n",
        "    # Calculate the MSE for each group\n",
        "    mse_per_group = np.mean(np.square(original_data_grouped - reconstructed_data_grouped), axis=(1, 2, 3))\n",
        "    return mse_per_group\n",
        "\n",
        "# Assuming 'test_data' is your test dataset with the shape (15205, 640, 4)\n",
        "# And 'model' is your trained model\n",
        "# The following line is commented out because we don't have the actual model and data to perform the prediction\n",
        "#reconstruction_errors_per_10_frames = calculate_reconstruction_error_per_group(model, normal_data_reshaped)\n",
        "reconstruction_errors_per_10_frames = calculate_reconstruction_error_per_group(model, fall_data_reshaped)\n",
        "reconstructed_data = model.predict(fall_data_reshaped)\n",
        "# Print the shape of the reconstruction errors array to verify the result\n",
        "# print(reconstruction_errors_per_10_frames.shape)"
      ]
    },
    {
      "cell_type": "code",
      "execution_count": 20,
      "metadata": {
        "colab": {
          "base_uri": "https://localhost:8080/",
          "height": 575
        },
        "id": "xkCdoE6lrZUM",
        "outputId": "9fbb609e-07c8-4d03-ea30-bc0e5f267ea2"
      },
      "outputs": [
        {
          "data": {
            "image/png": "[encoded data removed]",
            "text/plain": [
              "<Figure size 1000x600 with 1 Axes>"
            ]
          },
          "metadata": {},
          "output_type": "display_data"
        }
      ],
      "source": [
        "import matplotlib.pyplot as plt\n",
        "import numpy as np\n",
        "\n",
        "# Assuming 'reconstruction_errors' is a list or array containing the reconstruction errors\n",
        "# for each data point in your test set\n",
        "\n",
        "# Plot the reconstruction errors\n",
        "plt.figure(figsize=(10, 6))\n",
        "plt.plot(reconstruction_errors_per_10_frames)\n",
        "#plt.plot(reconstructed_data)\n",
        "#plt.ylim(0,2)\n",
        "plt.title('Reconstruction Error')\n",
        "plt.xlabel('Data Point Index')\n",
        "plt.ylabel('Reconstruction Error')\n",
        "plt.grid(True)\n",
        "plt.show()"
      ]
    },
    {
      "cell_type": "code",
      "execution_count": null,
      "metadata": {
        "id": "QaN9xmWsQA9M"
      },
      "outputs": [],
      "source": [
        "\n",
        "class compute_metric:\n",
        "    def __init__(self):\n",
        "        pass\n",
        "\n",
        "    def detect_falls(self, loss_history, centroidZ_history, threshold):\n",
        "        assert len(loss_history) == len(centroidZ_history), \"ERROR: The length of loss history is different than the length of centroidZ history!\"\n",
        "        seq_len                 = len(loss_history)\n",
        "        win_len                 = 20 # Detection window length on account of 2 seconds for 10 fps radar rate\n",
        "        centroidZ_dropthres     = 0.6\n",
        "        i                       = int(win_len/2)\n",
        "        detected_falls_idx      = []\n",
        "        # Firstly, detect the fall centers based on the centroidZ drop\n",
        "        while i < (seq_len - win_len/2):\n",
        "            detection_window_middle  = i\n",
        "            detection_window_lf_edge = int(detection_window_middle - win_len/2)\n",
        "            detection_window_rh_edge = int(detection_window_middle + win_len/2)\n",
        "            # Search the centroidZ drop\n",
        "            if centroidZ_history[detection_window_lf_edge] - centroidZ_history[detection_window_rh_edge] >= centroidZ_dropthres:\n",
        "                detected_falls_idx.append(int(detection_window_middle))\n",
        "            i += 1\n",
        "\n",
        "        # Secondly, if a sequence of fall happen within a window less than win_len, we combine these falls into one fall centered at the middle of this sequence\n",
        "        i = 0\n",
        "        processed_detected_falls_idx = []\n",
        "        while i < len(detected_falls_idx):\n",
        "            j = i\n",
        "            while True:\n",
        "                if j == len(detected_falls_idx):\n",
        "                    break\n",
        "                if detected_falls_idx[j] - detected_falls_idx[i] > win_len:\n",
        "                    break\n",
        "                j += 1\n",
        "            processed_detected_falls_idx.append(int((detected_falls_idx[i] + detected_falls_idx[j-1])/2))\n",
        "            i = j\n",
        "\n",
        "        # Thirdly, find id there is an anomaly level (or loss history) spike in the detection window\n",
        "        ones_idx                    = np.argwhere(np.array(loss_history)>=threshold).flatten()\n",
        "        fall_binseq                 = np.zeros(seq_len)\n",
        "        fall_binseq[ones_idx]       = 1\n",
        "        final_detected_falls_idx    = []\n",
        "        i = 0\n",
        "        while i < len(processed_detected_falls_idx):\n",
        "            detection_window_middle  = int(processed_detected_falls_idx[i])\n",
        "            detection_window_lf_edge = int(detection_window_middle - win_len/2)\n",
        "            detection_window_rh_edge = int(detection_window_middle + win_len/2)\n",
        "            if 1 in fall_binseq[detection_window_lf_edge:detection_window_rh_edge]:\n",
        "                final_detected_falls_idx.append(processed_detected_falls_idx[i])\n",
        "            i += 1\n",
        "\n",
        "        return final_detected_falls_idx, len(processed_detected_falls_idx)\n",
        "\n",
        "    def find_tpfpfn(self, detected_falls_idx, gt_falls_idx):\n",
        "        n_detected_falls    = len(detected_falls_idx)\n",
        "        falls_tp            = []\n",
        "        falls_fp            = []\n",
        "        falls_fn            = list(gt_falls_idx)\n",
        "        win_len             = 20\n",
        "        for i in range(n_detected_falls):\n",
        "            n_gt_falls      = len(falls_fn)\n",
        "            j               = 0\n",
        "            while j < n_gt_falls:\n",
        "                # Find a gt fall index whose window covers the detected fall index, so it's true positive\n",
        "                if int(falls_fn[j]-win_len/2) <= detected_falls_idx[i] <= int(falls_fn[j]+win_len/2):\n",
        "                    # Remove the true positive from the gt_falls_idx list, finally only false negative remains\n",
        "                    falls_fn.pop(j)\n",
        "                    falls_tp.append(i)\n",
        "                    break\n",
        "                j += 1\n",
        "            # Dn not find a gt fall index whose window covers the detected fall index, so it's false positive\n",
        "            if j == n_gt_falls:\n",
        "                falls_fp.append(i)\n",
        "\n",
        "        return falls_tp, falls_fp, falls_fn\n",
        "\n",
        "    def cal_roc(self, loss_history, centroidZ_history, gt_falls_idx):\n",
        "        n_gt_falls = len(gt_falls_idx)\n",
        "        print(\"How many falls?\", n_gt_falls)\n",
        "        tpr, fpr = [], []\n",
        "        for threshold in np.arange(0.0, 10.0, 0.1):\n",
        "            detected_falls_idx, _           = self.detect_falls(loss_history, centroidZ_history, threshold)\n",
        "            falls_tp, falls_fp, falls_fn    = self.find_tpfpfn(detected_falls_idx, gt_falls_idx)\n",
        "            # Save the true positve rate for this threshold.\n",
        "            tpr.append(len(falls_tp)/n_gt_falls)\n",
        "            # Save the number of false positve, or missed fall detection, for this threshold\n",
        "            fpr.append(len(falls_fp))\n",
        "        return tpr, fpr"
      ]
    },
    {
      "cell_type": "code",
      "execution_count": null,
      "metadata": {
        "colab": {
          "base_uri": "https://localhost:8080/"
        },
        "id": "fpoUI8f5WXjq",
        "outputId": "7ca4e892-b5ae-4d34-ad81-1320771aca00"
      },
      "outputs": [
        {
          "data": {
            "text/plain": [
              "(60278, 10, 64, 4)"
            ]
          },
          "execution_count": 28,
          "metadata": {},
          "output_type": "execute_result"
        }
      ],
      "source": [
        "\n",
        "    # Load the models\n",
        "    model                                   = loaded_model\n",
        "    all_file =  project_path + 'data/DS2/DS2'\n",
        "\n",
        "    # Load inference dataset and the ground truth timesheet\n",
        "    # Ground truth time index file exists\n",
        "    if os.path.exists(all_file + '.csv'):\n",
        "        gt_falls_idx                        = np.genfromtxt(all_file + '.csv', delimiter=',').astype(int)\n",
        "    # Maybe this file doesn't contain any falls\n",
        "    else:\n",
        "        gt_falls_idx                        = []\n",
        "    shape(inference_1)"
      ]
    },
    {
      "cell_type": "code",
      "execution_count": null,
      "metadata": {
        "colab": {
          "base_uri": "https://localhost:8080/"
        },
        "id": "lYUnHiGDKOVD",
        "outputId": "9ffd6dfa-245b-45e7-db63-ffffef8ca81d"
      },
      "outputs": [
        {
          "name": "stdout",
          "output_type": "stream",
          "text": [
            " 198/1884 [==>...........................] - ETA: 1:05:03"
          ]
        }
      ],
      "source": [
        "\n",
        "    #inference_1, centroidZ_history = data_preproc().load_bin(all_file + '.npy', fortrain=False)\n",
        "    inference_1=np.array(inference_1)\n",
        "    inference = np.moveaxis(inference_1, 1, 2).reshape(inference_1.shape[0], sequence_size, embedding_dim)\n",
        "    #inference = inference_1.reshape(-1, sequence_size, embedding_dim)\n",
        "    TRANS_loss_history=model.predict(inference)\n",
        "\n",
        "    # For performace evaluation\n",
        "    calculator                              = compute_metric()\n",
        "    HVRAE_tpr, HVRAE_fp_total                 = calculator.cal_roc(TRANS_loss_history, centroidZ_history, gt_falls_idx)\n"
      ]
    },
    {
      "cell_type": "code",
      "execution_count": null,
      "metadata": {
        "colab": {
          "base_uri": "https://localhost:8080/",
          "height": 636
        },
        "id": "TgsBUIzWWSLr",
        "outputId": "9acd7ae3-9564-4b38-ef58-fc19d8c56c09"
      },
      "outputs": [
        {
          "ename": "NameError",
          "evalue": "name 'HVRAE_fp_total' is not defined",
          "output_type": "error",
          "traceback": [
            "\u001b[0;31m---------------------------------------------------------------------------\u001b[0m",
            "\u001b[0;31mNameError\u001b[0m                                 Traceback (most recent call last)",
            "\u001b[0;32m<ipython-input-8-d7598240831c>\u001b[0m in \u001b[0;36m<cell line: 6>\u001b[0;34m()\u001b[0m\n\u001b[1;32m      4\u001b[0m \u001b[0mplt\u001b[0m\u001b[0;34m.\u001b[0m\u001b[0mxticks\u001b[0m\u001b[0;34m(\u001b[0m\u001b[0mnp\u001b[0m\u001b[0;34m.\u001b[0m\u001b[0marange\u001b[0m\u001b[0;34m(\u001b[0m\u001b[0;36m0\u001b[0m\u001b[0;34m,\u001b[0m \u001b[0;36m11\u001b[0m\u001b[0;34m,\u001b[0m \u001b[0;36m1\u001b[0m\u001b[0;34m)\u001b[0m\u001b[0;34m)\u001b[0m\u001b[0;34m\u001b[0m\u001b[0;34m\u001b[0m\u001b[0m\n\u001b[1;32m      5\u001b[0m \u001b[0mplt\u001b[0m\u001b[0;34m.\u001b[0m\u001b[0mylim\u001b[0m\u001b[0;34m(\u001b[0m\u001b[0;36m0.0\u001b[0m\u001b[0;34m,\u001b[0m \u001b[0;36m1.1\u001b[0m\u001b[0;34m)\u001b[0m\u001b[0;34m\u001b[0m\u001b[0;34m\u001b[0m\u001b[0m\n\u001b[0;32m----> 6\u001b[0;31m \u001b[0mplt\u001b[0m\u001b[0;34m.\u001b[0m\u001b[0mscatter\u001b[0m\u001b[0;34m(\u001b[0m\u001b[0mHVRAE_fp_total\u001b[0m\u001b[0;34m,\u001b[0m \u001b[0mHVRAE_tpr\u001b[0m\u001b[0;34m,\u001b[0m \u001b[0mc\u001b[0m\u001b[0;34m=\u001b[0m\u001b[0;34m'r'\u001b[0m\u001b[0;34m)\u001b[0m\u001b[0;34m\u001b[0m\u001b[0;34m\u001b[0m\u001b[0m\n\u001b[0m\u001b[1;32m      7\u001b[0m \u001b[0mplt\u001b[0m\u001b[0;34m.\u001b[0m\u001b[0mplot\u001b[0m\u001b[0;34m(\u001b[0m\u001b[0mHVRAE_fp_total\u001b[0m\u001b[0;34m,\u001b[0m \u001b[0mHVRAE_tpr\u001b[0m\u001b[0;34m,\u001b[0m \u001b[0mc\u001b[0m\u001b[0;34m=\u001b[0m\u001b[0;34m'r'\u001b[0m\u001b[0;34m,\u001b[0m \u001b[0mlinewidth\u001b[0m\u001b[0;34m=\u001b[0m\u001b[0;36m2\u001b[0m\u001b[0;34m,\u001b[0m \u001b[0mlabel\u001b[0m\u001b[0;34m=\u001b[0m\u001b[0;34m'HVRAE ROC'\u001b[0m\u001b[0;34m)\u001b[0m\u001b[0;34m\u001b[0m\u001b[0;34m\u001b[0m\u001b[0m\n\u001b[1;32m      8\u001b[0m \u001b[0mplt\u001b[0m\u001b[0;34m.\u001b[0m\u001b[0mlegend\u001b[0m\u001b[0;34m(\u001b[0m\u001b[0mloc\u001b[0m\u001b[0;34m=\u001b[0m\u001b[0;34m\"lower right\"\u001b[0m\u001b[0;34m)\u001b[0m\u001b[0;34m\u001b[0m\u001b[0;34m\u001b[0m\u001b[0m\n",
            "\u001b[0;31mNameError\u001b[0m: name 'HVRAE_fp_total' is not defined"
          ]
        },
        {
          "data": {
            "image/png": "[encoded data removed]",
            "text/plain": [
              "<Figure size 640x480 with 1 Axes>"
            ]
          },
          "metadata": {},
          "output_type": "display_data"
        }
      ],
      "source": [
        "\n",
        "    # Plot Receiver operating characteristic (ROC) curves\n",
        "    plt.figure()\n",
        "    plt.xlim(-0.1, 10)\n",
        "    plt.xticks(np.arange(0, 11, 1))\n",
        "    plt.ylim(0.0, 1.1)\n",
        "    plt.scatter(HVRAE_fp_total, HVRAE_tpr, c='r')\n",
        "    plt.plot(HVRAE_fp_total, HVRAE_tpr, c='r', linewidth=2, label='HVRAE ROC')\n",
        "    plt.legend(loc=\"lower right\")\n",
        "    plt.xlabel(\"Number od False Alarms\")\n",
        "    plt.ylabel(\"True Fall Detection Rate\")\n",
        "    plt.savefig(inferencedata_file + '_ROC.png')\n",
        "    plt.show()"
      ]
    }
  ],
  "metadata": {
    "accelerator": "GPU",
    "colab": {
      "gpuType": "T4",
      "provenance": []
    },
    "kernelspec": {
      "display_name": "Python 3",
      "name": "python3"
    },
    "language_info": {
      "codemirror_mode": {
        "name": "ipython",
        "version": 3
      },
      "file_extension": ".py",
      "mimetype": "text/x-python",
      "name": "python",
      "nbconvert_exporter": "python",
      "pygments_lexer": "ipython3",
      "version": "3.11.8"
    }
  },
  "nbformat": 4,
  "nbformat_minor": 0
}
